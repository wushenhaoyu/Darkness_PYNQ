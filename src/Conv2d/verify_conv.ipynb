{
 "cells": [
  {
   "cell_type": "code",
   "execution_count": 24,
   "id": "2f05cc86",
   "metadata": {},
   "outputs": [],
   "source": [
    "import torch\n",
    "import torch.nn as nn\n",
    "import numpy as np\n",
    "IN_CHANNEL = 2\n",
    "OUT_CHANNEL = 2\n",
    "KERNEL_SIZE = 3\n",
    "STRIDE = 1\n",
    "PADDING = 1\n",
    "INPUT_WIDTH = 3\n",
    "INPUT_HEIGHT = 3\n",
    "\n",
    "# Calculate output dimensions\n",
    "OUTPUT_WIDTH = (INPUT_WIDTH - KERNEL_SIZE + 2 * PADDING) // STRIDE + 1\n",
    "OUTPUT_HEIGHT = (INPUT_HEIGHT - KERNEL_SIZE + 2 * PADDING) // STRIDE + 1\n"
   ]
  },
  {
   "cell_type": "code",
   "execution_count": 25,
   "id": "671377fb",
   "metadata": {},
   "outputs": [],
   "source": [
    "# Initialize input data with a simple pattern (e.g., increasing integers)\n",
    "in_data = np.zeros((INPUT_HEIGHT, INPUT_WIDTH, IN_CHANNEL), dtype=np.float32)\n",
    "for i in range(INPUT_HEIGHT):\n",
    "    for j in range(INPUT_WIDTH):\n",
    "        for cin in range(IN_CHANNEL):\n",
    "            in_data[i, j, cin] = i * INPUT_WIDTH * IN_CHANNEL + j * IN_CHANNEL + cin\n",
    "            in_data[i, j, cin] *= 0.1\n",
    "            \n",
    "\n",
    "# Initialize weights with a simple pattern (e.g., increasing integers)\n",
    "weights = np.zeros((OUT_CHANNEL, IN_CHANNEL, KERNEL_SIZE, KERNEL_SIZE), dtype=np.float32)\n",
    "for i in range(KERNEL_SIZE):\n",
    "    for j in range(KERNEL_SIZE):\n",
    "        for cin in range(IN_CHANNEL):\n",
    "            for cout in range(OUT_CHANNEL):\n",
    "                weights[cout, cin, i, j] = i * KERNEL_SIZE * IN_CHANNEL * OUT_CHANNEL + j * IN_CHANNEL * OUT_CHANNEL + cin * OUT_CHANNEL + cout\n",
    "                weights[cout, cin, i, j] *= 0.1\n",
    "# Initialize biases to zero\n",
    "biases = np.zeros((OUT_CHANNEL,), dtype=np.float32)\n",
    "\n",
    "# Create a PyTorch tensor for the input data\n",
    "input_tensor = torch.from_numpy(in_data).permute(2, 0, 1)  # CHW format\n",
    "\n",
    "# Create a PyTorch tensor for the weights and biases\n",
    "weight_tensor = torch.from_numpy(weights)\n",
    "bias_tensor = torch.from_numpy(biases)\n",
    "\n",
    "# Create a PyTorch convolutional layer\n",
    "conv_layer = nn.Conv2d(in_channels=IN_CHANNEL, out_channels=OUT_CHANNEL, kernel_size=KERNEL_SIZE, stride=STRIDE, padding=PADDING)\n",
    "\n",
    "# Set the weights and biases of the convolutional layer\n",
    "conv_layer.weight = nn.Parameter(weight_tensor)\n",
    "conv_layer.bias = nn.Parameter(bias_tensor)\n",
    "\n",
    "# Run the forward pass\n",
    "output_tensor = conv_layer(input_tensor)\n"
   ]
  },
  {
   "cell_type": "code",
   "execution_count": 26,
   "id": "d07854a8",
   "metadata": {},
   "outputs": [
    {
     "name": "stdout",
     "output_type": "stream",
     "text": [
      "Output data:\n",
      "OUT[0][0][0] = 1064.0\n",
      "OUT[0][0][1] = 1100.0\n",
      "OUT[0][1][0] = 1804.0\n",
      "OUT[0][1][1] = 1870.0\n",
      "OUT[0][2][0] = 1256.0\n",
      "OUT[0][2][1] = 1308.0\n",
      "OUT[1][0][0] = 2316.0\n",
      "OUT[1][0][1] = 2406.0\n",
      "OUT[1][1][0] = 3570.0\n",
      "OUT[1][1][1] = 3723.0\n",
      "OUT[1][2][0] = 2316.0\n",
      "OUT[1][2][1] = 2430.0\n",
      "OUT[2][0][0] = 1256.0\n",
      "OUT[2][0][1] = 1340.0\n",
      "OUT[2][1][0] = 1804.0\n",
      "OUT[2][1][1] = 1942.0\n",
      "OUT[2][2][0] = 1064.0\n",
      "OUT[2][2][1] = 1164.0\n"
     ]
    }
   ],
   "source": [
    "print(\"Output data:\")\n",
    "output_numpy = output_tensor.detach().numpy().transpose((1, 2, 0))  # \n",
    "for i in range(OUTPUT_HEIGHT):\n",
    "    for j in range(OUTPUT_WIDTH):\n",
    "        for cout in range(OUT_CHANNEL):\n",
    "            print(f\"OUT[{i}][{j}][{cout}] = {output_numpy[i][j][cout]}\")"
   ]
  },
  {
   "cell_type": "code",
   "execution_count": null,
   "id": "40a74d5e",
   "metadata": {},
   "outputs": [],
   "source": []
  }
 ],
 "metadata": {
  "kernelspec": {
   "display_name": "pytorch",
   "language": "python",
   "name": "python3"
  },
  "language_info": {
   "codemirror_mode": {
    "name": "ipython",
    "version": 3
   },
   "file_extension": ".py",
   "mimetype": "text/x-python",
   "name": "python",
   "nbconvert_exporter": "python",
   "pygments_lexer": "ipython3",
   "version": "3.11.8"
  }
 },
 "nbformat": 4,
 "nbformat_minor": 5
}
